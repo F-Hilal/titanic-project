{
  "nbformat": 4,
  "nbformat_minor": 0,
  "metadata": {
    "colab": {
      "provenance": [],
      "authorship_tag": "ABX9TyOZmqq7JaNBBg92EMchlulx",
      "include_colab_link": true
    },
    "kernelspec": {
      "name": "python3",
      "display_name": "Python 3"
    },
    "language_info": {
      "name": "python"
    }
  },
  "cells": [
    {
      "cell_type": "markdown",
      "metadata": {
        "id": "view-in-github",
        "colab_type": "text"
      },
      "source": [
        "<a href=\"https://colab.research.google.com/github/F-Hilal/titanic-project/blob/main/PROJE_%C3%96DEV%C4%B0_1_TITANIC_YOLCU_VER%C4%B0_SET%C4%B0_ANAL%C4%B0Z%C4%B0_Fatma_Hilal_AK%C3%87AY.ipynb\" target=\"_parent\"><img src=\"https://colab.research.google.com/assets/colab-badge.svg\" alt=\"Open In Colab\"/></a>"
      ]
    },
    {
      "cell_type": "markdown",
      "source": [
        "### **Adım 1️: Veri Yükleme ve İlk İnceleme:**"
      ],
      "metadata": {
        "id": "46RlGMaF41-Z"
      }
    },
    {
      "cell_type": "markdown",
      "source": [
        "Veri setimizi Pandas ile Github sitesindeki linkten raw dosyası olarak import edip veri setimizi inceleyelim."
      ],
      "metadata": {
        "id": "2unqsbyG4qXB"
      }
    },
    {
      "cell_type": "code",
      "execution_count": 2,
      "metadata": {
        "id": "uZpLAPMMYyk3",
        "colab": {
          "base_uri": "https://localhost:8080/"
        },
        "outputId": "9ffaba6f-b806-4255-bd77-78a7645e7f43"
      },
      "outputs": [
        {
          "output_type": "stream",
          "name": "stdout",
          "text": [
            "   PassengerId  Survived  Pclass  \\\n",
            "0            1         0       3   \n",
            "1            2         1       1   \n",
            "2            3         1       3   \n",
            "3            4         1       1   \n",
            "4            5         0       3   \n",
            "\n",
            "                                                Name     Sex   Age  SibSp  \\\n",
            "0                            Braund, Mr. Owen Harris    male  22.0      1   \n",
            "1  Cumings, Mrs. John Bradley (Florence Briggs Th...  female  38.0      1   \n",
            "2                             Heikkinen, Miss. Laina  female  26.0      0   \n",
            "3       Futrelle, Mrs. Jacques Heath (Lily May Peel)  female  35.0      1   \n",
            "4                           Allen, Mr. William Henry    male  35.0      0   \n",
            "\n",
            "   Parch            Ticket     Fare Cabin Embarked  \n",
            "0      0         A/5 21171   7.2500   NaN        S  \n",
            "1      0          PC 17599  71.2833   C85        C  \n",
            "2      0  STON/O2. 3101282   7.9250   NaN        S  \n",
            "3      0            113803  53.1000  C123        S  \n",
            "4      0            373450   8.0500   NaN        S  \n"
          ]
        }
      ],
      "source": [
        "import pandas as pd\n",
        "import numpy as np\n",
        "import seaborn as sns\n",
        "import matplotlib.pyplot as plt\n",
        "\n",
        "# GitHub'daki raw CSV linki\n",
        "url = \"https://raw.githubusercontent.com/datasciencedojo/datasets/master/titanic.csv\"\n",
        "\n",
        "# Veri setininin okunması\n",
        "df = pd.read_csv(url)\n",
        "\n",
        "#İlk 5 satırın gösterimi\n",
        "print(df.head())"
      ]
    },
    {
      "cell_type": "markdown",
      "source": [
        "**Kod Açıklaması:**\n",
        "\n",
        " * pd.read_csv(url) ile veri setini okutup, df.head() ile ilk 5 satırı görüntüledik.\n",
        "\n",
        " * Veri seti 12 sütundan oluşuyor. Bu sütun başlıklarının Türkçe anlamları:\n",
        "\n",
        "   - **PassengerId**: Yolcu kimlik numarası\n",
        "   - **Survived**: Hayatta kalma durumu (0: Hayatta değil, 1: Hayatta)\n",
        "   - **Pclass**: Yolcu sınıfı (1: Birinci, 2: İkinci, 3: Üçüncü)\n",
        "   - **Name**: İsim\n",
        "   - **Sex**: Cinsiyet\n",
        "   - **Age**: Yaş\n",
        "   - **SibSp**: Gemideki kardeş/eş sayısı\n",
        "   - **Parch**: Gemideki ebeveyn/çocuk sayısı\n",
        "   - **Ticket**: Bilet numarası\n",
        "   - **Fare**: Bilet ücreti\n",
        "   - **Cabin**: Kabin numarası\n",
        "   - **Embarked**: Gemiye biniş limanı"
      ],
      "metadata": {
        "id": "9OHttRzf2EMR"
      }
    },
    {
      "cell_type": "code",
      "source": [
        "# Veri tipleri uygunluğu kontrolü\n",
        "print(df.dtypes)"
      ],
      "metadata": {
        "colab": {
          "base_uri": "https://localhost:8080/"
        },
        "id": "AtcWu1ynVGS4",
        "outputId": "13da10de-65a6-41af-9d7e-4a26e0712fc6"
      },
      "execution_count": null,
      "outputs": [
        {
          "output_type": "stream",
          "name": "stdout",
          "text": [
            "PassengerId      int64\n",
            "Survived         int64\n",
            "Pclass           int64\n",
            "Name            object\n",
            "Sex             object\n",
            "Age            float64\n",
            "SibSp            int64\n",
            "Parch            int64\n",
            "Ticket          object\n",
            "Fare           float64\n",
            "Cabin           object\n",
            "Embarked        object\n",
            "dtype: object\n"
          ]
        }
      ]
    },
    {
      "cell_type": "code",
      "source": [
        "df[\"PassengerId\"] = df[\"PassengerId\"].astype(\"object\")\n",
        "\n",
        "#Veri tipini tekrar kontrol edelim\n",
        "print(df.dtypes)"
      ],
      "metadata": {
        "id": "LmXCRjjQm8ci",
        "colab": {
          "base_uri": "https://localhost:8080/"
        },
        "outputId": "5e1a8bc2-0ea4-4cda-94e5-4027531c2013"
      },
      "execution_count": null,
      "outputs": [
        {
          "output_type": "stream",
          "name": "stdout",
          "text": [
            "PassengerId     object\n",
            "Survived         int64\n",
            "Pclass           int64\n",
            "Name            object\n",
            "Sex             object\n",
            "Age            float64\n",
            "SibSp            int64\n",
            "Parch            int64\n",
            "Ticket          object\n",
            "Fare           float64\n",
            "Cabin           object\n",
            "Embarked        object\n",
            "dtype: object\n"
          ]
        }
      ]
    },
    {
      "cell_type": "markdown",
      "source": [
        "**Kod Açıklaması:**\n",
        "\n",
        "**PassengerId** sütununun veri tipi **object** türüne çevrildi.\n",
        "Çünkü \"Yolcu kimlik numarası\" sütunun sayısal veri olması ve istatistik işlemlerinin yapılması mantıklı değildir.\n",
        "\n",
        "Tüm sütunların veri tipi kontrol edildi ve uygun olduğu görüldü.\n",
        "\n"
      ],
      "metadata": {
        "id": "kYc3mn4TCa3F"
      }
    },
    {
      "cell_type": "markdown",
      "source": [
        "\n",
        "\n",
        "---\n",
        "\n",
        "\n",
        "### **Adım 2️ : Veri Temizleme ve Düzenleme:**"
      ],
      "metadata": {
        "id": "0C_CAHmt46mB"
      }
    },
    {
      "cell_type": "code",
      "source": [
        "# Eksik değer kontrolü\n",
        "print(df.isnull().sum())"
      ],
      "metadata": {
        "colab": {
          "base_uri": "https://localhost:8080/"
        },
        "id": "iDFjytvUT06N",
        "outputId": "746072b9-d40c-408e-c2ca-cf471f9ea901"
      },
      "execution_count": null,
      "outputs": [
        {
          "output_type": "stream",
          "name": "stdout",
          "text": [
            "PassengerId      0\n",
            "Survived         0\n",
            "Pclass           0\n",
            "Name             0\n",
            "Sex              0\n",
            "Age            177\n",
            "SibSp            0\n",
            "Parch            0\n",
            "Ticket           0\n",
            "Fare             0\n",
            "Cabin          687\n",
            "Embarked         2\n",
            "dtype: int64\n"
          ]
        }
      ]
    },
    {
      "cell_type": "markdown",
      "source": [
        "**Çıktı Açıklaması:**\n",
        "\n",
        "Veri setinde bazı sütunlarda eksik değerler mevcuttur:\n",
        "\n",
        "Age sütununda 177, Cabin sütununda 687 ve Embarked sütununda 2 eksik değer bulunmaktadır."
      ],
      "metadata": {
        "id": "E5-ODYXeUojk"
      }
    },
    {
      "cell_type": "code",
      "source": [
        "# Eksik Age değerleri medyan ile dolduruldu\n",
        "df['Age'] = df['Age'].fillna(df['Age'].median())\n",
        "\n",
        "# Eksik Cabin değerleri 'Bilinmiyor' ile değiştirildi\n",
        "df['Cabin'] = df['Cabin'].fillna('Bilinmiyor')\n",
        "\n",
        "# Eksik Embarked değerleri en sık görülen liman ile dolduruldu\n",
        "df['Embarked'] = df['Embarked'].fillna(df['Embarked'].mode()[0])\n",
        "\n",
        "print(df.isnull().sum())"
      ],
      "metadata": {
        "colab": {
          "base_uri": "https://localhost:8080/"
        },
        "id": "hxiMj0595HDN",
        "outputId": "abdbe452-48dd-4d8e-c279-8424bd911b32"
      },
      "execution_count": null,
      "outputs": [
        {
          "output_type": "stream",
          "name": "stdout",
          "text": [
            "PassengerId    0\n",
            "Survived       0\n",
            "Pclass         0\n",
            "Name           0\n",
            "Sex            0\n",
            "Age            0\n",
            "SibSp          0\n",
            "Parch          0\n",
            "Ticket         0\n",
            "Fare           0\n",
            "Cabin          0\n",
            "Embarked       0\n",
            "dtype: int64\n"
          ]
        }
      ]
    },
    {
      "cell_type": "markdown",
      "source": [
        "**Kod Açıklaması:**\n",
        "* Yaş sütununda, 177 eksik veri uç değerlerden etilenmemek için medyan ile dolduruldu.\n",
        "\n",
        "* Cabin sütununda, 687 eksik veri bilinmiyor ile değiştirildi.\n",
        "\n",
        "* Embarked sütununda, 2 eksik veri en sık tekrar eden liman ile dolduruldu."
      ],
      "metadata": {
        "id": "RFBxJZF7UMB7"
      }
    },
    {
      "cell_type": "markdown",
      "source": [
        "\n",
        "\n",
        "---\n",
        "\n",
        "\n",
        "### **Adım 3️: Keşifsel Veri Analizi (EDA):**"
      ],
      "metadata": {
        "id": "ijsDtjaCBArV"
      }
    },
    {
      "cell_type": "code",
      "source": [
        "# Hayatta kalan yolcuların yüzdesi\n",
        "hayatta_kalan = df[\"Survived\"].mean() * 100\n",
        "print(f\"Hayatta kalan: {hayatta_kalan:.2f}\")\n",
        "\n",
        "# Cinsiyete göre ortalama yaşlar\n",
        "cinsiyet_yas = df.groupby(\"Sex\")[\"Age\"].mean()\n",
        "print(cinsiyet_yas)\n",
        "\n",
        "# Farklı yolcu sınıflarındaki hayatta kalma oranları\n",
        "sinif_bazinda = df.groupby(\"Pclass\")[\"Survived\"].mean() * 100\n",
        "print(sinif_bazinda)"
      ],
      "metadata": {
        "colab": {
          "base_uri": "https://localhost:8080/"
        },
        "id": "PF-ynlRIT6D4",
        "outputId": "e3d04bea-63a2-49a4-e87c-974f47bcc880"
      },
      "execution_count": null,
      "outputs": [
        {
          "output_type": "stream",
          "name": "stdout",
          "text": [
            "Hayatta kalan: 38.38\n",
            "Sex\n",
            "female    27.929936\n",
            "male      30.140676\n",
            "Name: Age, dtype: float64\n",
            "Pclass\n",
            "1    62.962963\n",
            "2    47.282609\n",
            "3    24.236253\n",
            "Name: Survived, dtype: float64\n"
          ]
        }
      ]
    },
    {
      "cell_type": "markdown",
      "source": [
        "**Çıktı Açıklaması:**\n",
        "\n",
        "* Yolcuların % 38'i hayatta kalmış. (Yaklaşık 3’te 1’i).\n",
        "\n",
        "* Kadın yolcular erkeklere göre biraz daha genç. Ancak bu fark çok büyük değil.\n",
        "\n",
        "* **Sınıf yükseldikçe hayatta kalma oranı da artıyor.**\n",
        "\n",
        "  * Bunun sebebi:\n",
        "\n",
        "   1.sınıf yolcular geminin üst güvertelerine yakın yerleşmişti → filikalara ulaşma şansları daha yüksekti.\n",
        "\n",
        "   3.sınıf yolcular alt güvertelerdeydi → tahliye sırasında daha dezavantajlıydılar.\n"
      ],
      "metadata": {
        "id": "BIUdPa-AT9at"
      }
    },
    {
      "cell_type": "markdown",
      "source": [
        "\n",
        "\n",
        "---\n",
        "\n",
        "\n",
        "### **Adım 4️: Veri Görselleştirme:**\n"
      ],
      "metadata": {
        "id": "Uu5jl0pJE1WN"
      }
    },
    {
      "cell_type": "code",
      "source": [
        "# ortalama değer → hayatta kalma oranı\n",
        "h_kalan = df.groupby(\"Sex\")[\"Survived\"].mean()\n",
        "print(h_kalan)"
      ],
      "metadata": {
        "colab": {
          "base_uri": "https://localhost:8080/"
        },
        "id": "IbGIozFZm7Iv",
        "outputId": "6f4779ed-6376-42b2-fb9e-528cdc177f09"
      },
      "execution_count": null,
      "outputs": [
        {
          "output_type": "stream",
          "name": "stdout",
          "text": [
            "Sex\n",
            "female    0.742038\n",
            "male      0.188908\n",
            "Name: Survived, dtype: float64\n"
          ]
        }
      ]
    },
    {
      "cell_type": "code",
      "source": [
        "# Cinsiyete göre hayatta kalma oranının bar grafiği\n",
        "sns.barplot(x='Sex', y='Survived', data=df, width=0.6, hue = 'Sex',\n",
        "            palette={'male': '#87CEFA', 'female': '#FFB6C1'})\n",
        "plt.title(\"Cinsiyete Göre Hayatta Kalanların Oranı\", fontsize=15)\n",
        "plt.xlabel(\"Cinsiyet\")\n",
        "plt.ylabel(\"Hayatta Kalma Oranı\")\n",
        "plt.xticks([0, 1], [\"Erkek\", \"Kadın\"])\n",
        "\n",
        "plt.show()"
      ],
      "metadata": {
        "colab": {
          "base_uri": "https://localhost:8080/",
          "height": 474
        },
        "id": "dVwtwTENZxi5",
        "outputId": "4e41ffe7-d77e-43d6-92de-30a21df391b3"
      },
      "execution_count": null,
      "outputs": [
        {
          "output_type": "display_data",
          "data": {
            "text/plain": [
              "<Figure size 640x480 with 1 Axes>"
            ],
            "image/png": "[encoded data removed]"
          },
          "metadata": {}
        }
      ]
    },
    {
      "cell_type": "markdown",
      "source": [
        "**Çıktı Açıklaması:**\n",
        "\n",
        "* Erkeklerin hayatta kalma oranı ≈ %19\n",
        "\n",
        "* Kadınların hayatta kalma oranı ≈ %74\n",
        "\n",
        "Kadınların kurtulma oranı, erkeklerin yaklaşık 4 katı. Bu fark, gemide uygulanan \"önce kadınlar ve çocuklar\" prensibinin bir sonucudur. Dolayısıyla, cinsiyet hayatta kalmayı açıklayan en güçlü değişkenlerden biridir.\n",
        "\n",
        "\n",
        "---\n",
        "\n"
      ],
      "metadata": {
        "id": "QlDjXe23Upke"
      }
    },
    {
      "cell_type": "code",
      "source": [
        "# Yaş dağılımı histogramı\n",
        "sns.histplot(df['Age'], bins=20, color='#E6E6FA', stat='density')\n",
        "plt.title(\"Yolcuların Yaş Dağılımı\", fontsize=15)\n",
        "plt.xlabel('Yaş', fontsize=12)\n",
        "plt.ylabel('Frekans', fontsize=12)\n",
        "plt.grid(True, linestyle='--', alpha=0.7)\n",
        "sns.kdeplot(df['Age'], color='#6A5ACD', linewidth=2)\n",
        "plt.show()"
      ],
      "metadata": {
        "colab": {
          "base_uri": "https://localhost:8080/",
          "height": 479
        },
        "id": "NMzHcQyiMe5C",
        "outputId": "a3c4c400-12cd-4b82-9f70-9804c54c518b"
      },
      "execution_count": null,
      "outputs": [
        {
          "output_type": "display_data",
          "data": {
            "text/plain": [
              "<Figure size 640x480 with 1 Axes>"
            ],
            "image/png": "[encoded data removed]"
          },
          "metadata": {}
        }
      ]
    },
    {
      "cell_type": "markdown",
      "source": [
        "**Çıktı Açıklaması:**\n",
        "\n",
        "Yolcuların çoğu 20-40 yaş aralığında.\n",
        "\n",
        "\n",
        "---\n",
        "\n"
      ],
      "metadata": {
        "id": "1ZzoLOYsQOO_"
      }
    },
    {
      "cell_type": "code",
      "source": [
        "# Yolcu sınıfına göre hayatta kalma oranları\n",
        "sns.barplot(x=\"Pclass\", y=\"Survived\", data=df, width=0.6, hue = 'Pclass',\n",
        "            palette={1: '#9ea9b4', 2: '#bec5cc', 3: '#d8dfe6'})\n",
        "plt.title(\"Yolcu Sınıfına Göre Hayatta Kalma Oranı\", fontsize=15)\n",
        "plt.xlabel(\"Yolcu Sınıfı\")\n",
        "plt.ylabel(\"Hayatta Kalma Oranı\")\n",
        "\n",
        "plt.show()"
      ],
      "metadata": {
        "colab": {
          "base_uri": "https://localhost:8080/",
          "height": 474
        },
        "id": "FcDatTBxaL9W",
        "outputId": "fe095ba6-6484-4cfd-a1db-566e6218ee94"
      },
      "execution_count": 5,
      "outputs": [
        {
          "output_type": "display_data",
          "data": {
            "text/plain": [
              "<Figure size 640x480 with 1 Axes>"
            ],
            "image/png": "[encoded data removed]"
          },
          "metadata": {}
        }
      ]
    },
    {
      "cell_type": "markdown",
      "source": [
        "**Çıktı Açıklaması:**\n",
        "\n",
        "Grafikte yolcu sınıfı düştükçe hayatta kalma oranının da azaldığı görülüyor ."
      ],
      "metadata": {
        "id": "6UAOLoSdns7G"
      }
    },
    {
      "cell_type": "markdown",
      "source": [
        "\n",
        "\n",
        "---\n",
        "\n",
        "\n",
        "### **Adım 5️: Hayatta Kalmayı Etkileyen Faktörlerin Analizi:**"
      ],
      "metadata": {
        "id": "K7TfNt91GLDR"
      }
    },
    {
      "cell_type": "code",
      "source": [
        "# Yaş ile hayatta kalma arasındaki Pearson korelasyonunu hesaplıyoruz\n",
        "correlation = df['Age'].corr(df['Survived'])\n",
        "print(f\"Yaş ve hayatta kalma arasındaki Pearson korelasyonu: {correlation:.3f}\")"
      ],
      "metadata": {
        "id": "LKTePp8vZx8E",
        "colab": {
          "base_uri": "https://localhost:8080/"
        },
        "outputId": "5f915f3f-6968-41ab-d9d7-b083b67f0a1b"
      },
      "execution_count": null,
      "outputs": [
        {
          "output_type": "stream",
          "name": "stdout",
          "text": [
            "Yaş ve hayatta kalma arasındaki Pearson korelasyonu: -0.077\n"
          ]
        }
      ]
    },
    {
      "cell_type": "markdown",
      "source": [
        "**Çıktı Açıklaması:**\n",
        "\n",
        "-0.077 → çok zayıf negatif ilişki demektir.\n",
        "\n",
        "Negatif olması → yaş arttıkça hayatta kalma olasılığı biraz azalma eğiliminde, ama -0.077 gibi küçük bir değer, bu ilişki ihmal edilebilir düzeyde, yani neredeyse ilişki yok."
      ],
      "metadata": {
        "id": "eZ-aJokrwE9m"
      }
    },
    {
      "cell_type": "code",
      "source": [
        "# Bilet ücreti ile hayatta kalma arasındaki Pearson korelasyonunu hesaplıyoruz\n",
        "iliski = df['Fare'].corr(df['Survived'])\n",
        "print(f\"Bilet ücreti ve hayatta kalma arasındaki Pearson korelasyonu: {iliski:.3f}\")"
      ],
      "metadata": {
        "colab": {
          "base_uri": "https://localhost:8080/"
        },
        "id": "ndXloCpdwnDF",
        "outputId": "a153df79-410e-492e-e371-7cc90b31597a"
      },
      "execution_count": null,
      "outputs": [
        {
          "output_type": "stream",
          "name": "stdout",
          "text": [
            "Bilet ücreti ve hayatta kalma arasındaki Pearson korelasyonu: 0.257\n"
          ]
        }
      ]
    },
    {
      "cell_type": "markdown",
      "source": [
        "**Çıktı Açıklaması:**\n",
        "\n",
        "Pozitif bir değer → Bilet ücreti arttıkça hayatta kalma olasılığı artıyor demektir.\n",
        "\n",
        "0.257 → zayıf-orta düzeyde pozitif ilişki. Çok yüksek bir değer değil, bu nedenle tek başına bilet ücreti hayatta kalmayı güçlü şekilde açıklamıyor."
      ],
      "metadata": {
        "id": "b1g_CxJ9xZiL"
      }
    },
    {
      "cell_type": "markdown",
      "source": [
        "\n",
        "\n",
        "---\n",
        "\n",
        "\n",
        "### **Adım 6: Sonuçları Raporlama:**"
      ],
      "metadata": {
        "id": "ISh7hrBBZy0p"
      }
    },
    {
      "cell_type": "markdown",
      "source": [
        "**1) Genel Hayatta Kalma Durumu**\n",
        "\n",
        "* Titanic’teki yolcuların yaklaşık %38’i hayatta kalmıştır.\n",
        "\n",
        "* Yani genel hayatta kalma oranı oldukça düşüktür.\n",
        "\n",
        "**2) Cinsiyet Faktörü**\n",
        "\n",
        "* Erkeklerin hayatta kalma oranı ≈ %19\n",
        "\n",
        "* Kadınların hayatta kalma oranı ≈ %74\n",
        "\n",
        "  **Kadınlar**, Titanic kazasında hayatta kalma açısından **en belirleyici faktörlerden biri** olmuştur.\n",
        "\n",
        "**3) Yolcu Sınıfı**\n",
        "\n",
        "* 1.sınıf yolcuların hayatta kalma oranı: %63\n",
        "\n",
        "* 2.sınıf yolcuların hayatta kalma oranı: %47\n",
        "\n",
        "* 3.sınıf yolcuların hayatta kalma oranı: %24\n",
        "\n",
        "  **Yolcu sınıfı**, hayatta kalmayı etkileyen **çok güçlü bir faktördür**. Üst sınıf yolcular daha iyi imkanlara sahipti ve hayatta kalma şansı daha yüksekti.\n",
        "\n",
        "**4) Yaş Faktörü**\n",
        "\n",
        "* Yaş ve hayatta kalma arasındaki Pearson korelasyonu: -0.077\n",
        "\n",
        "* Yani yaş ile hayatta kalma arasında çok zayıf bir negatif ilişki var.\n",
        "\n",
        "  Yaş, hayatta kalmayı açıklamada tek başına güçlü bir faktör değil, ancak küçük çocukların kurtulma olasılığı biraz daha yüksek olabilir.\n",
        "\n",
        "**5) Bilet Ücreti**\n",
        "\n",
        "* Bilet ücreti ile hayatta kalma arasındaki Pearson korelasyonu: 0.257\n",
        "\n",
        "* Daha pahalı biletler genellikle 1. sınıf yolcularına ait olduğu için, bilet ücreti dolaylı olarak hayatta kalmayı düşük de olsa etkileyen bir faktördür.\n",
        "\n",
        "\n",
        "\n",
        "---\n",
        "\n",
        "\n",
        "\n",
        "**Özet - Hayatta Kalmayı Etkileyen En Önemli Faktörler**\n",
        "\n",
        "**Cinsiyet** → **Kadınların** hayatta kalma şansı çok daha **yüksek**.\n",
        "\n",
        "**Yolcu Sınıfı**→ **1. sınıf** yolcuların hayatta kalma olasılığı **en yüksek**.\n",
        "\n",
        "**Bilet Ücreti** → Ücret arttıkça hayatta kalma olasılığı artıyor (dolaylı etkili).\n",
        "\n",
        "**Yaş** → Çok zayıf etkili, tek başına belirleyici değil.\n",
        "\n",
        "**Genel Yorum:**\n",
        "\n",
        "**Titanic kazasında hayatta kalma şansını belirleyen en güçlü faktörler cinsiyet ve yolcu sınıfıdır**.\n",
        "\n",
        "Yaş ve bilet ücreti ise ikinci derecede etkili faktörlerdir.\n"
      ],
      "metadata": {
        "id": "mg8P4eRZy1Ip"
      }
    }
  ]
}